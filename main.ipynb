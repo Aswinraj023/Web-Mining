{
 "cells": [
  {
   "cell_type": "code",
   "execution_count": null,
   "id": "caa20280",
   "metadata": {},
   "outputs": [
    {
     "name": "stderr",
     "output_type": "stream",
     "text": [
      "C:\\Users\\Aswin Raj\\AppData\\Local\\Temp\\ipykernel_26660\\1611118534.py:20: DeprecationWarning: executable_path has been deprecated, please pass in a Service object\n",
      "  wd = webdriver.Chrome(r'D:\\Downloads\\chromedriver_win32\\chromedriver.exe',options=CO)\n"
     ]
    },
    {
     "name": "stdout",
     "output_type": "stream",
     "text": [
      "*************************************************************************** \n",
      "\n",
      "                     Starting Program, Please wait ..... \n",
      "\n",
      "Products available for scrapping :  \n",
      " 1. Skullcandy \n",
      " 2. Fitbit \n",
      " 3. Iphone 14 Pro \n",
      " 4. Samsung S22 \n",
      " 5. Acer Predator\n",
      "Enter the name of the Product: Fitbit\n",
      "Connecting to Flipkart\n",
      " ---> Successfully retrieved the price from Flipkart \n",
      "\n",
      "Connecting to Amazon\n",
      " ---> Successfully retrieved the price from Amazon \n",
      "\n",
      "Connecting to Croma\n",
      " ---> Successfully retrieved the price from Croma \n",
      "\n",
      "Connecting to Gadgetsnow\n",
      " ---> Successfully retrieved the price from Gadgetsnow site \n",
      "\n",
      "Connecting to Smartprix\n"
     ]
    }
   ],
   "source": [
    "# Final Main Code\n",
    "# create a webdriver object for chrome-option and configure\n",
    "from selenium import webdriver\n",
    "from selenium.webdriver.support.ui import WebDriverWait \n",
    "from selenium.webdriver.common.keys import Keys\n",
    "import time\n",
    "from pathlib import Path\n",
    "from selenium.webdriver.common.by import By\n",
    "from selenium.common.exceptions import NoSuchElementException\n",
    "from selenium.webdriver.support import expected_conditions as EC\n",
    "from selenium.common.exceptions import StaleElementReferenceException\n",
    "import pyautogui as pg\n",
    "global prod_price_dict\n",
    "prod_price_dict={}\n",
    "wait_imp = 2\n",
    "CO = webdriver.ChromeOptions()\n",
    "CO.add_experimental_option('useAutomationExtension', False)\n",
    "CO.add_argument('--ignore-certificate-errors')\n",
    "CO.add_argument('--start-maximized')\n",
    "wd = webdriver.Chrome(r'D:\\Downloads\\chromedriver_win32\\chromedriver.exe',options=CO)\n",
    "print (\"*************************************************************************** \\n\")\n",
    "print(\"                     Starting Program, Please wait ..... \\n\")\n",
    "def flipkart_scrape(item_to_search):\n",
    "    print (\"Connecting to Flipkart\")\n",
    "    #launch URL\n",
    "    URL = 'https://www.flipkart.com/'\n",
    "    wd.get(URL)\n",
    "    #identify search box\n",
    "    m = wd.find_element(By.NAME,\"q\")\n",
    "    #enter search text\n",
    "    m.send_keys(item_to_search)\n",
    "    # time.sleep(0.2)\n",
    "    #perform search with Keys.ENTER\n",
    "    m.send_keys(Keys.ENTER)\n",
    "    get_url = wd.current_url\n",
    "    # Printing the URL\n",
    "    # print(get_url)\n",
    "    wd.get(get_url)\n",
    "    if item_to_search==\"skullcandy\":\n",
    "        skullcandy=wd.find_element(By.XPATH,'//*[@id=\"container\"]/div/div[3]/div[1]/div[2]/div[2]/div/div[3]/div/a[2]').get_attribute('href')\n",
    "        wd.get(skullcandy)\n",
    "        wd.implicitly_wait(wait_imp)\n",
    "        f_price = wd.find_element(By.XPATH,'//*[@id=\"container\"]/div/div[3]/div[1]/div[2]/div[2]/div/div[3]/div[1]/div/div[1]')\n",
    "        pr_name = wd.find_element(By.XPATH,'//*[@id=\"container\"]/div/div[3]/div[1]/div[2]/div[2]/div/div[1]/h1/span')\n",
    "    elif item_to_search==\"fitbit\":\n",
    "        fitbit=wd.find_element(By.XPATH,'//*[@id=\"container\"]/div/div[3]/div[1]/div[2]/div[2]/div/div[3]/div/a[2]').get_attribute('href')\n",
    "        wd.get(fitbit)\n",
    "        wd.implicitly_wait(wait_imp)\n",
    "        f_price = wd.find_element(By.XPATH,'//*[@id=\"container\"]/div/div[3]/div[1]/div[2]/div[2]/div/div[3]/div[1]/div/div')\n",
    "        pr_name = wd.find_element(By.XPATH,'//*[@id=\"container\"]/div/div[3]/div[1]/div[2]/div[2]/div/div[1]/h1/span')\n",
    "    elif item_to_search==\"iphone14pro\":\n",
    "        fitbit=wd.find_element(By.XPATH,'//*[@id=\"container\"]/div/div[3]/div[1]/div[2]/div[2]/div/div/div/a').get_attribute('href')\n",
    "        wd.get(fitbit)\n",
    "        wd.implicitly_wait(wait_imp)\n",
    "        f_price = wd.find_element(By.XPATH,'//*[@id=\"container\"]/div/div[3]/div[1]/div[2]/div[2]/div/div[4]/div[1]/div/div[1]')\n",
    "        pr_name = wd.find_element(By.XPATH,'//*[@id=\"container\"]/div/div[3]/div[1]/div[2]/div[2]/div/div[1]/h1/span')\n",
    "    elif item_to_search==\"samsungs22\":\n",
    "        e=wd.find_element(By.XPATH,'//*[@id=\"container\"]/div/div[3]/div[1]/div[2]/div[2]/div/div/div/a').get_attribute('href')\n",
    "        wd.get(e)\n",
    "        wd.implicitly_wait(wait_imp)\n",
    "        f_price = wd.find_element(By.XPATH,'//*[@id=\"container\"]/div/div[3]/div[1]/div[2]/div[2]/div/div[3]/div[1]/div/div')\n",
    "        pr_name = wd.find_element(By.XPATH,'//*[@id=\"container\"]/div/div[3]/div[1]/div[2]/div[2]/div/div[1]/h1/span')\n",
    "    elif item_to_search==\"acerpredator\":\n",
    "        e=wd.find_element(By.XPATH,'//*[@id=\"container\"]/div/div[3]/div[1]/div[2]/div[6]/div/div/div/a').get_attribute('href')\n",
    "        wd.get(e)\n",
    "        wd.implicitly_wait(wait_imp)\n",
    "        f_price = wd.find_element(By.XPATH,'//*[@id=\"container\"]/div/div[3]/div[1]/div[2]/div[2]/div/div[3]/div[1]/div/div[1]')\n",
    "        pr_name = wd.find_element(By.XPATH,'//*[@id=\"container\"]/div/div[3]/div[1]/div[2]/div[2]/div/div[1]/h1/span')\n",
    "    else:\n",
    "        print(\"Please enter the product in the list\")\n",
    "    global product,flipkart_price\n",
    "    product = pr_name.text\n",
    "    flipkart_price = f_price.text\n",
    "    # print (r_price[1:])\n",
    "    flipkart_price= flipkart_price[1:]\n",
    "    flipkart_price=int(flipkart_price.replace(\"₹\",\"\").replace(\",\",\"\"))\n",
    "    prod_price_dict[\"Flipkart\"] = flipkart_price\n",
    "    print (\" ---> Successfully retrieved the price from Flipkart \\n\")\n",
    "    time.sleep(2)\n",
    "def amazon_scrape(item_to_search):\n",
    "    print(\"Connecting to Amazon\")\n",
    "    URL = \"https://www.amazon.in/\"\n",
    "    wd.get(URL)\n",
    "    #identify search box\n",
    "    m = wd.find_element(By.ID,\"twotabsearchtextbox\")\n",
    "    #enter search text\n",
    "    if item_to_search==\"acerpredator\":\n",
    "        m.send_keys(item_to_search[:4]+\" \"+item_to_search[4:]+\" helios\")\n",
    "    # time.sleep(0.2)\n",
    "    #perform Google search with Keys.ENTER\n",
    "    m.send_keys(item_to_search)\n",
    "    m.send_keys(Keys.ENTER)\n",
    "    get_url = wd.current_url\n",
    "    # Printing the URL\n",
    "    # print(get_url)\n",
    "    wd.get(get_url)\n",
    "    time.sleep(0.5)\n",
    "    if item_to_search==\"skullcandy\":\n",
    "        skullcandy=wd.find_element(By.XPATH,'//*[@id=\"search\"]/div[1]/div[1]/div/span[1]/div[1]/div[4]/div/div/div/div/div/div[2]/div/div/div[1]/h2/a').get_attribute('href')\n",
    "        wd.get(skullcandy)\n",
    "        wd.implicitly_wait(wait_imp)\n",
    "        a_price = wd.find_element(By.XPATH,'//*[@id=\"corePriceDisplay_desktop_feature_div\"]/div[1]/span[2]/span[2]/span[2]')\n",
    "    elif item_to_search==\"fitbit\":\n",
    "        fitbit=wd.find_element(By.XPATH,'//*[@id=\"search\"]/div[1]/div[1]/div/span[1]/div[1]/div[7]/div/div/div/div/div/div[2]/div/div/div[1]/h2/a').get_attribute('href')\n",
    "        wd.get(fitbit)\n",
    "        wd.implicitly_wait(wait_imp)\n",
    "        a_price = wd.find_element(By.XPATH,'//*[@id=\"corePriceDisplay_desktop_feature_div\"]/div[1]/span[2]/span[2]/span[2]')\n",
    "    elif item_to_search==\"iphone14pro\":\n",
    "        e=wd.find_element(By.XPATH,'//*[@id=\"search\"]/div[1]/div[1]/div/span[1]/div[1]/div[4]/div/div/div/div/div/div/div[3]/div[2]/h2/a').get_attribute('href')\n",
    "        wd.get(e)\n",
    "        wd.implicitly_wait(wait_imp)\n",
    "        a_price = wd.find_element(By.XPATH,'//*[@id=\"corePriceDisplay_desktop_feature_div\"]/div[1]/span[2]/span[2]/span[2]')\n",
    "    elif item_to_search==\"samsungs22\":\n",
    "        e=wd.find_element(By.XPATH,'//*[@id=\"search\"]/div[1]/div[1]/div/span[1]/div[1]/div[4]/div/div/div/div/div/div/div/div[2]/div/div/div[1]/h2/a').get_attribute('href')\n",
    "        wd.get(e)\n",
    "        wd.implicitly_wait(wait_imp)\n",
    "        a_price = wd.find_element(By.XPATH,'//*[@id=\"corePriceDisplay_desktop_feature_div\"]/div[1]/span[2]/span[2]/span[2]')\n",
    "    elif item_to_search==\"acerpredator\":\n",
    "        e=wd.find_element(By.XPATH,'//*[@id=\"search\"]/div[1]/div[1]/div/span[1]/div[1]/div[5]/div/div/div/div/div/div[2]/div/div/div[1]/h2/a').get_attribute('href')\n",
    "        wd.get(e)\n",
    "        wd.implicitly_wait(wait_imp)\n",
    "        a_price = wd.find_element(By.XPATH,'//*[@id=\"corePriceDisplay_desktop_feature_div\"]/div[1]/span[2]/span[2]/span[2]')\n",
    "    else:\n",
    "        print(\"Please enter the product in the list\")\n",
    "    global amazon_price\n",
    "    amazon_price = a_price.text\n",
    "    amazon_price=int(amazon_price.replace(\"₹\",\"\").replace(\",\",\"\"))\n",
    "    prod_price_dict[\"Amazon\"]=amazon_price\n",
    "    # print (raw_p[2:8])\n",
    "    print (\" ---> Successfully retrieved the price from Amazon \\n\")\n",
    "    time.sleep(2)\n",
    "def croma_scrape(item_to_search):\n",
    "    print (\"Connecting to Croma\")\n",
    "    URL = \"https://www.croma.com/\"\n",
    "    wd.get(URL)\n",
    "    #identify search box\n",
    "    wd.refresh()\n",
    "    time.sleep(0.5)\n",
    "    m = wd.find_element(By.ID,'search')\n",
    "    #enter search text\n",
    "    m.send_keys(item_to_search)\n",
    "    m.send_keys(Keys.ENTER)\n",
    "    get_url = wd.current_url\n",
    "    wd.get(get_url)\n",
    "    time.sleep(0.5)\n",
    "    try:\n",
    "        if item_to_search==\"skullcandy\":\n",
    "            e=wd.find_element(By.XPATH,'//*[@id=\"finderResults\"]/ul/div[3]/div[1]/div[2]/div[1]/div/span/li/a').get_attribute('href')\n",
    "            wd.get(e)\n",
    "            wd.implicitly_wait(wait_imp)\n",
    "            c_price = wd.find_element(By.XPATH,'//*[@id=\"overview\"]/div[1]/div[2]/div[1]/div[1]/span[2]')\n",
    "        elif item_to_search==\"fitbit\":\n",
    "            e=wd.find_element(By.XPATH,'//*[@id=\"231609\"]/div[2]/div[1]/h3/a').get_attribute('href')\n",
    "            wd.get(e)\n",
    "            wd.implicitly_wait(wait_imp)\n",
    "            c_price = wd.find_element(By.XPATH,'//*[@id=\"pdp-product-price\"]')\n",
    "        elif item_to_search==\"iphone14pro\":\n",
    "            e=wd.find_element(By.XPATH,'//*[@id=\"261977\"]/div[2]/div[1]/h3/a').get_attribute('href')\n",
    "            wd.get(e)\n",
    "            wd.implicitly_wait(wait_imp)\n",
    "            c_price = wd.find_element(By.XPATH,'//*[@id=\"pdp-product-price\"]')\n",
    "        elif item_to_search==\"samsungs22\":\n",
    "            e=wd.find_element(By.XPATH,'//*[@id=\"248898\"]/div[2]/div[1]/h3/a').get_attribute('href')\n",
    "            wd.get(e)\n",
    "            wd.implicitly_wait(wait_imp)\n",
    "            c_price = wd.find_element(By.XPATH,'//*[@id=\"pdp-product-price\"]')\n",
    "        elif item_to_search==\"acerpredator\":\n",
    "            e=wd.find_element(By.XPATH,'//*[@id=\"245700\"]/div[2]/div[1]/h3/a').get_attribute('href')\n",
    "            wd.get(e)\n",
    "            wd.implicitly_wait(wait_imp)\n",
    "            c_price = wd.find_element(By.XPATH,'//*[@id=\"pdp-product-price\"]')\n",
    "        else:\n",
    "            print(\"Please enter the product in the list\")\n",
    "        global croma_price\n",
    "        croma_price = c_price.text\n",
    "        croma_price=int(float(croma_price.replace(\"₹\",\"\").replace(\",\",\"\")))\n",
    "        prod_price_dict[\"Croma\"]=croma_price\n",
    "        # print (raw_p[2:8])\n",
    "        print (\" ---> Successfully retrieved the price from Croma \\n\")\n",
    "        time.sleep(2)\n",
    "    except NoSuchElementException:\n",
    "        print(\"Product not available\")\n",
    "        croma_price=0\n",
    "        prod_price_dict[\"Croma\"]=croma_price\n",
    "def gadget_scrape(item_to_search):\n",
    "    print (\"Connecting to Gadgetsnow\")\n",
    "    URL = \"https://shop.gadgetsnow.com/\"\n",
    "    wd.get(URL)\n",
    "    #identify search box\n",
    "    m = wd.find_element(By.XPATH,'//*[@id=\"globalSearch\"]')\n",
    "    #enter search text\n",
    "    if item_to_search==\"samsungs22\":\n",
    "        m.send_keys(item_to_search[:7]+\" galaxy \"+item_to_search[7:])\n",
    "    elif item_to_search==\"acerpredator\":\n",
    "        m.send_keys(item_to_search[:4]+\" \"+item_to_search[4:])\n",
    "    else:\n",
    "        m.send_keys(item_to_search)\n",
    "    # time.sleep(0.2)\n",
    "    #perform search with Keys.ENTER\n",
    "    m.send_keys(Keys.ENTER)\n",
    "    get_url = wd.current_url\n",
    "    # Printing the URL\n",
    "    # print(get_url)\n",
    "    wd.get(get_url)\n",
    "    time.sleep(1.5)\n",
    "    if item_to_search==\"skullcandy\":\n",
    "        e=wd.find_element(By.XPATH,'//*[@id=\"contentbody\"]/div[6]/div[4]/div[15]/div[2]/a').get_attribute('href')\n",
    "        wd.get(e)\n",
    "        wd.implicitly_wait(wait_imp)\n",
    "        g_price = wd.find_element(By.XPATH,'//*[@id=\"contentbody\"]/div[5]/div[1]/div/div[1]/div[2]/div/span[1]/meta[1]').get_attribute('content')\n",
    "    elif item_to_search==\"fitbit\":\n",
    "        e=wd.find_element(By.XPATH,'//*[@id=\"contentbody\"]/div[6]/div[4]/div[1]/div[2]/a').get_attribute('href')\n",
    "        wd.get(e)\n",
    "        wd.implicitly_wait(wait_imp)\n",
    "        g_price = wd.find_element(By.XPATH,'//*[@id=\"contentbody\"]/div[5]/div[1]/div/div[1]/div[2]/div[1]/span[1]/meta[1]').get_attribute('content')\n",
    "    elif item_to_search==\"iphone14pro\":\n",
    "        e=wd.find_element(By.XPATH,'//*[@id=\"contentbody\"]/div[6]/div[4]/div[2]/div[2]/a').get_attribute('href')\n",
    "        wd.get(e)\n",
    "        wd.implicitly_wait(wait_imp)\n",
    "        g_price = wd.find_element(By.XPATH,'//*[@id=\"contentbody\"]/div[5]/div[1]/div/div[1]/div[2]/div[1]/span[1]/meta[1]').get_attribute('content')\n",
    "    elif item_to_search==\"samsungs22\":\n",
    "        e=wd.find_element(By.XPATH,'//*[@id=\"contentbody\"]/div[6]/div[4]/div[4]/div[2]/a').get_attribute('href')\n",
    "        wd.get(e)\n",
    "        wd.implicitly_wait(wait_imp)\n",
    "        g_price = wd.find_element(By.XPATH,'//*[@id=\"contentbody\"]/div[5]/div[1]/div/div[1]/div[2]/div/span[1]/meta[1]').get_attribute('content')\n",
    "    elif item_to_search==\"acerpredator\":\n",
    "        e=wd.find_element(By.XPATH,'//*[@id=\"contentbody\"]/div[6]/div[4]/div[6]/div[2]/a').get_attribute('href')\n",
    "        wd.get(e)\n",
    "        wd.implicitly_wait(wait_imp)\n",
    "        global raw_cr,m_price\n",
    "        g_price = wd.find_element(By.XPATH,'//*[@id=\"contentbody\"]/div[5]/div[1]/div/div[1]/div[2]/div[1]/span[1]/meta[1]').get_attribute('content')\n",
    "    else:\n",
    "        print(\"Please enter the product in the list\")\n",
    "    global gadget_price\n",
    "    gadget_price = g_price\n",
    "    gadget_price=int(gadget_price)\n",
    "    prod_price_dict[\"Gadgetsnow\"]=gadget_price\n",
    "    # print (raw_p[2:8])\n",
    "    print (\" ---> Successfully retrieved the price from Gadgetsnow site \\n\")\n",
    "    time.sleep(2)\n",
    "def smartprix_scrape(item_to_search):\n",
    "    print (\"Connecting to Smartprix\")\n",
    "    URL = \"https://www.smartprix.com/\"\n",
    "    wd.get(URL)\n",
    "    m = wd.find_element(By.NAME,\"q\")\n",
    "    #enter search text\n",
    "    if item_to_search==\"skullcandy\":\n",
    "        m.send_keys(item_to_search+\"dime earbuds\")\n",
    "    else:\n",
    "        m.send_keys(item_to_search)  \n",
    "    m.send_keys(Keys.ENTER)\n",
    "    get_url = wd.current_url\n",
    "    # Printing the URL\n",
    "    # print(get_url)\n",
    "    wd.get(get_url)\n",
    "    time.sleep(1.5)\n",
    "    if item_to_search==\"skullcandy\":\n",
    "        e=wd.find_element(By.XPATH,'//*[@id=\"app\"]/main/div[1]/div[2]/div[2]/div[1]/a').get_attribute('href')\n",
    "        wd.get(e)\n",
    "        wd.implicitly_wait(wait_imp)\n",
    "        s_price = wd.find_element(By.XPATH,'//*[@id=\"app\"]/main/div[1]/div[2]/div[3]/div[1]/div[1]')\n",
    "    elif item_to_search==\"fitbit\":\n",
    "        e=wd.find_element(By.XPATH,'//*[@id=\"app\"]/main/div[1]/div[2]/div[2]/div[6]/a').get_attribute('href')\n",
    "        wd.get(e)\n",
    "        wd.implicitly_wait(wait_imp)\n",
    "        s_price = wd.find_element(By.XPATH,'//*[@id=\"app\"]/main/div[1]/div[2]/div[1]/div[1]/div/div[2]/strong')\n",
    "    elif item_to_search==\"iphone14pro\":\n",
    "        e=wd.find_element(By.XPATH,'//*[@id=\"app\"]/main/div[1]/div[2]/div[2]/div[2]/a').get_attribute('href')\n",
    "        wd.get(e)\n",
    "        wd.implicitly_wait(wait_imp)\n",
    "        s_price = wd.find_element(By.XPATH,'//*[@id=\"app\"]/main/div[1]/div[2]/div[1]/div[1]/div/div[2]/strong')\n",
    "    elif item_to_search==\"samsungs22\":\n",
    "        e=wd.find_element(By.XPATH,'//*[@id=\"app\"]/main/div[1]/div[2]/div[2]/div[2]/a').get_attribute('href')\n",
    "        wd.get(e)\n",
    "        wd.implicitly_wait(wait_imp)\n",
    "        s_price = wd.find_element(By.XPATH,'//*[@id=\"app\"]/main/div[1]/div[2]/div[1]/div[1]/div/div[2]/strong')\n",
    "    elif item_to_search==\"acerpredator\":\n",
    "        e=wd.find_element(By.XPATH,'//*[@id=\"app\"]/main/div[1]/div[2]/div[2]/div[1]/a').get_attribute('href')\n",
    "        wd.get(e)\n",
    "        wd.implicitly_wait(wait_imp)\n",
    "        s_price = wd.find_element(By.XPATH,'//*[@id=\"app\"]/main/div[1]/div[2]/div[1]/div[1]/div/div[2]/strong')\n",
    "    else:\n",
    "        print(\"Please enter the product in the list\")\n",
    "    global smartprix_price\n",
    "    smartprix_price = s_price.text\n",
    "    smartprix_price = smartprix_price[1:]\n",
    "    smartprix_price=int(float(smartprix_price.replace(\"₹\",\"\").replace(\",\",\"\")))\n",
    "    prod_price_dict[\"Smartprix\"]=smartprix_price\n",
    "    print (\" ---> Successfully retrieved the price from Smartprix \\n\")\n",
    "    time.sleep(2)\n",
    "def display():\n",
    "    print (\"#------------------------------------------------------------------------#\")\n",
    "    print (\"Price for [{}] on all websites, Prices are in INR \\n\".format(product))\n",
    "    print(\"  Price available at Flipkart is: \",flipkart_price)\n",
    "    print(\"  Price available at Amazon is: \",amazon_price)\n",
    "    print(\"  Price available at 91mobiles is: \",croma_price)\n",
    "    print(\"  Price available at Gadgetsnow is: \",gadget_price)\n",
    "    print(\"  Price available at Smartprix is: \",smartprix_price,\"\\n Dict :\",prod_price_dict)\n",
    "items=print(\"Products available for scrapping : \",\"\\n 1. Skullcandy\",\"\\n 2. Fitbit\",\"\\n 3. Iphone 14 Pro\",\"\\n 4. Samsung S22\",\"\\n 5. Acer Predator\")\n",
    "item_to_search = input(\"Enter the name of the Product: \").lower().replace(\" \",\"\")\n",
    "try:\n",
    "    flipkart_scrape(item_to_search)\n",
    "except Exception as e:\n",
    "    print(e)\n",
    "    pass\n",
    "try:\n",
    "    amazon_scrape(item_to_search)\n",
    "except Exception as e:\n",
    "    print(e)\n",
    "    pass\n",
    "try:\n",
    "    croma_scrape(item_to_search)\n",
    "except Exception as e:\n",
    "    print(e)\n",
    "    pass\n",
    "try:\n",
    "    gadget_scrape(item_to_search)\n",
    "except Exception as e:\n",
    "    print(e)\n",
    "    pass\n",
    "try:\n",
    "    smartprix_scrape(item_to_search)\n",
    "except Exception as e:\n",
    "    print(e)\n",
    "    pass\n",
    "display()\n"
   ]
  },
  {
   "cell_type": "code",
   "execution_count": 4,
   "id": "df2e57d3",
   "metadata": {},
   "outputs": [
    {
     "data": {
      "text/plain": [
       "[14999, 11900, 6994, 14900, 8999]"
      ]
     },
     "execution_count": 4,
     "metadata": {},
     "output_type": "execute_result"
    }
   ],
   "source": [
    "Price=list(prod_price_dict.values())\n",
    "Price"
   ]
  },
  {
   "cell_type": "code",
   "execution_count": 5,
   "id": "3f550d78",
   "metadata": {},
   "outputs": [
    {
     "data": {
      "text/plain": [
       "['Flipkart', 'Amazon', 'Croma', 'Gadgetsnow', 'Smartprix']"
      ]
     },
     "execution_count": 5,
     "metadata": {},
     "output_type": "execute_result"
    }
   ],
   "source": [
    "Web_Name =list(prod_price_dict.keys())\n",
    "Web_Name"
   ]
  },
  {
   "cell_type": "code",
   "execution_count": 6,
   "id": "884dfa3a",
   "metadata": {},
   "outputs": [
    {
     "name": "stdout",
     "output_type": "stream",
     "text": [
      "      Website  Price\n",
      "0    Flipkart  14999\n",
      "1      Amazon  11900\n",
      "2       Croma   6994\n",
      "3  Gadgetsnow  14900\n",
      "4   Smartprix   8999\n"
     ]
    }
   ],
   "source": [
    "import pandas as pd\n",
    "data1 = {'Website':Web_Name,'Price':Price}\n",
    "df1 = pd.DataFrame(data1, columns= ['Website','Price'])\n",
    "print (df1)"
   ]
  },
  {
   "cell_type": "code",
   "execution_count": 9,
   "id": "10a64d75",
   "metadata": {},
   "outputs": [
    {
     "data": {
      "text/html": [
       "<div>\n",
       "<style scoped>\n",
       "    .dataframe tbody tr th:only-of-type {\n",
       "        vertical-align: middle;\n",
       "    }\n",
       "\n",
       "    .dataframe tbody tr th {\n",
       "        vertical-align: top;\n",
       "    }\n",
       "\n",
       "    .dataframe thead th {\n",
       "        text-align: right;\n",
       "    }\n",
       "</style>\n",
       "<table border=\"1\" class=\"dataframe\">\n",
       "  <thead>\n",
       "    <tr style=\"text-align: right;\">\n",
       "      <th></th>\n",
       "      <th>Website</th>\n",
       "      <th>Price</th>\n",
       "    </tr>\n",
       "  </thead>\n",
       "  <tbody>\n",
       "    <tr>\n",
       "      <th>0</th>\n",
       "      <td>Flipkart</td>\n",
       "      <td>14999</td>\n",
       "    </tr>\n",
       "    <tr>\n",
       "      <th>1</th>\n",
       "      <td>Amazon</td>\n",
       "      <td>11900</td>\n",
       "    </tr>\n",
       "    <tr>\n",
       "      <th>2</th>\n",
       "      <td>Croma</td>\n",
       "      <td>6994</td>\n",
       "    </tr>\n",
       "    <tr>\n",
       "      <th>3</th>\n",
       "      <td>Gadgetsnow</td>\n",
       "      <td>14900</td>\n",
       "    </tr>\n",
       "    <tr>\n",
       "      <th>4</th>\n",
       "      <td>Smartprix</td>\n",
       "      <td>8999</td>\n",
       "    </tr>\n",
       "  </tbody>\n",
       "</table>\n",
       "</div>"
      ],
      "text/plain": [
       "      Website  Price\n",
       "0    Flipkart  14999\n",
       "1      Amazon  11900\n",
       "2       Croma   6994\n",
       "3  Gadgetsnow  14900\n",
       "4   Smartprix   8999"
      ]
     },
     "execution_count": 9,
     "metadata": {},
     "output_type": "execute_result"
    }
   ],
   "source": [
    "df1.dropna(how='all')"
   ]
  },
  {
   "cell_type": "code",
   "execution_count": 10,
   "id": "78483614",
   "metadata": {},
   "outputs": [],
   "source": [
    "import sqlite3\n",
    "conn = sqlite3.connect('Ecommerce')\n",
    "c = conn.cursor()"
   ]
  },
  {
   "cell_type": "code",
   "execution_count": 13,
   "id": "8d5a7ff4",
   "metadata": {},
   "outputs": [],
   "source": [
    "c.execute('CREATE TABLE IF NOT EXISTS Product (Website text, Price number)')\n",
    "conn.commit()"
   ]
  },
  {
   "cell_type": "code",
   "execution_count": 14,
   "id": "9a5494f8",
   "metadata": {},
   "outputs": [
    {
     "data": {
      "text/plain": [
       "5"
      ]
     },
     "execution_count": 14,
     "metadata": {},
     "output_type": "execute_result"
    }
   ],
   "source": [
    "df1.to_sql('Product', conn, if_exists='replace', index = False)"
   ]
  },
  {
   "cell_type": "code",
   "execution_count": 15,
   "id": "5a256116",
   "metadata": {},
   "outputs": [
    {
     "name": "stdout",
     "output_type": "stream",
     "text": [
      "('Flipkart', 14999)\n",
      "('Amazon', 11900)\n",
      "('Croma', 6994)\n",
      "('Gadgetsnow', 14900)\n",
      "('Smartprix', 8999)\n"
     ]
    }
   ],
   "source": [
    "c.execute(''' SELECT * FROM Product''')\n",
    "for row in c.fetchall():\n",
    "    print (row)"
   ]
  },
  {
   "cell_type": "code",
   "execution_count": 16,
   "id": "12a80e54",
   "metadata": {},
   "outputs": [
    {
     "data": {
      "text/plain": [
       "<AxesSubplot:xlabel='Website', ylabel='Price'>"
      ]
     },
     "execution_count": 16,
     "metadata": {},
     "output_type": "execute_result"
    },
    {
     "data": {
      "image/png": "[encoded data removed]",
      "text/plain": [
       "<Figure size 432x288 with 1 Axes>"
      ]
     },
     "metadata": {
      "needs_background": "light"
     },
     "output_type": "display_data"
    }
   ],
   "source": [
    "df1.plot(x='Website', y='Price', kind='scatter')"
   ]
  },
  {
   "cell_type": "code",
   "execution_count": 17,
   "id": "77926506",
   "metadata": {},
   "outputs": [
    {
     "data": {
      "text/plain": [
       "<AxesSubplot:xlabel='Website'>"
      ]
     },
     "execution_count": 17,
     "metadata": {},
     "output_type": "execute_result"
    },
    {
     "data": {
      "image/png": "[encoded data removed]",
      "text/plain": [
       "<Figure size 432x288 with 1 Axes>"
      ]
     },
     "metadata": {
      "needs_background": "light"
     },
     "output_type": "display_data"
    }
   ],
   "source": [
    "df1.plot(x='Website', y='Price', kind='bar')"
   ]
  },
  {
   "cell_type": "code",
   "execution_count": 18,
   "id": "8b093208",
   "metadata": {},
   "outputs": [
    {
     "name": "stdout",
     "output_type": "stream",
     "text": [
      "['Croma', 6994]\n"
     ]
    }
   ],
   "source": [
    "#mysql> select *from MinValueDemo where ProductPrice=(select min(ProductPrice) from MinValueDemo);\n",
    "\n",
    "c.execute(''' SELECT * FROM Product WHERE Price=(SELECT MIN(Price) FROM Product)''')\n",
    "website=[]\n",
    "for row in c.fetchall():\n",
    "    minimum=list(row)\n",
    "    website.append(minimum[0])\n",
    "    print(minimum)"
   ]
  },
  {
   "cell_type": "code",
   "execution_count": 20,
   "id": "d97decbe",
   "metadata": {},
   "outputs": [],
   "source": [
    "website=\" , \".join(website)"
   ]
  },
  {
   "cell_type": "code",
   "execution_count": 21,
   "id": "ba464e3e",
   "metadata": {},
   "outputs": [
    {
     "name": "stdout",
     "output_type": "stream",
     "text": [
      "After comparing through the the websites, Croma offers the cheapest price for  fitbit at: Rs. 6994\n"
     ]
    }
   ],
   "source": [
    "print(\"After comparing through the the websites,\",website,\"offers the cheapest price for \",item_to_search,\"at: Rs.\",minimum[1] )"
   ]
  }
 ],
 "metadata": {
  "kernelspec": {
   "display_name": "Python 3 (ipykernel)",
   "language": "python",
   "name": "python3"
  },
  "language_info": {
   "codemirror_mode": {
    "name": "ipython",
    "version": 3
   },
   "file_extension": ".py",
   "mimetype": "text/x-python",
   "name": "python",
   "nbconvert_exporter": "python",
   "pygments_lexer": "ipython3",
   "version": "3.9.12"
  }
 },
 "nbformat": 4,
 "nbformat_minor": 5
}
